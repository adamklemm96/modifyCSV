{
 "metadata": {
  "language_info": {
   "codemirror_mode": {
    "name": "ipython",
    "version": 3
   },
   "file_extension": ".py",
   "mimetype": "text/x-python",
   "name": "python",
   "nbconvert_exporter": "python",
   "pygments_lexer": "ipython3",
   "version": "3.8.8"
  },
  "orig_nbformat": 2,
  "kernelspec": {
   "name": "python388jvsc74a57bd084728d71dd19fb9e21859aa21e9932a3c7c334db2e1a9e750bc84947895c459a",
   "display_name": "Python 3.8.8 64-bit ('base': conda)"
  }
 },
 "nbformat": 4,
 "nbformat_minor": 2,
 "cells": [
  {
   "cell_type": "code",
   "execution_count": null,
   "metadata": {},
   "outputs": [],
   "source": [
    "#Run this cell to see if there are some hashes in the file \n",
    "showHashes(pathToFile)"
   ]
  },
  {
   "cell_type": "code",
   "execution_count": 126,
   "metadata": {},
   "outputs": [],
   "source": [
    "#Run this cell to save the modified file\n",
    "database = modifyTXT()\n",
    "writeToCSV(database)"
   ]
  },
  {
   "cell_type": "code",
   "execution_count": null,
   "metadata": {},
   "outputs": [],
   "source": [
    "#ALWAYS RUN THE CELLS FROM HERE ALL THE WAY DOWN OTHERWISE IT WON'T BE WORKING ! "
   ]
  },
  {
   "cell_type": "code",
   "execution_count": 121,
   "metadata": {},
   "outputs": [],
   "source": [
    "#YOU HAVE TO SET THESE PARAMETERS \n",
    "pathToFile = \"downloaded_files/Corevin.com.txt\"\n",
    "delimeter = \":\"\n",
    "sample_lines = 10000\n",
    "hashReg = \"\"\n",
    "output = \"modified_csv/Corevin.com.csv\""
   ]
  },
  {
   "cell_type": "code",
   "execution_count": 122,
   "metadata": {},
   "outputs": [],
   "source": [
    "import pandas as pd\n",
    "import csv, os, sys, random"
   ]
  },
  {
   "cell_type": "code",
   "execution_count": 123,
   "metadata": {},
   "outputs": [],
   "source": [
    "def modifyTXT():\n",
    "    with open(pathToFile) as file:\n",
    "        data = file.read().splitlines()\n",
    "    database = [x.split(delimeter, 1) for x in data]\n",
    "    for line in database:\n",
    "        if hashReg in line:\n",
    "            line.append(\"\")\n",
    "        else:\n",
    "            line.insert(1, \"\")\n",
    "    return database"
   ]
  },
  {
   "cell_type": "code",
   "execution_count": 124,
   "metadata": {},
   "outputs": [],
   "source": [
    "def writeToCSV(database):\n",
    "    import pandas as pd\n",
    "    csv_format = pd.DataFrame(database)\n",
    "    csv_format.to_csv(output, index=False, quotechar = '\"', header=None, quoting = csv.QUOTE_NONNUMERIC)"
   ]
  },
  {
   "source": [
    "def showHashes(pathToFile):\n",
    "    while True:\n",
    "        hash_lenght = int(input(\"Enter the lenght we are looking for: \"))\n",
    "        print(\"We are looking for passwords longer than \",hash_lenght)\n",
    "        with open(pathToFile) as file:\n",
    "            sample_data = random.sample(file.readlines(), sample_lines)\n",
    "\n",
    "        #variables and counters\n",
    "        displayHashes = 10\n",
    "\n",
    "        #load sec_column\n",
    "        sec_column = [line.split(delimeter,1)[1] for line in sample_data]\n",
    "        #potentional hashes\n",
    "        pt_Hashes = []\n",
    "        display_hashes = 10\n",
    "\n",
    "        for hash in sec_column:\n",
    "            if len(hash) > hash_lenght:\n",
    "                pt_Hashes.append(hash)\n",
    "\n",
    "        if len(pt_Hashes)==0:\n",
    "            print(\"No hashes with lenght\", hash_lenght, \"try again\")\n",
    "            break\n",
    "        else:\n",
    "            print(pt_Hashes[:display_hashes])\n",
    "            #iterate over second column and you choose how the hash might look like    \n",
    "            while True:\n",
    "                keep_going = input(\"Show 10 more hashes? [y/n]: \")\n",
    "                if keep_going == 'y':\n",
    "                    display_hashes += 10 \n",
    "                    print(pt_Hashes[display_hashes:display_hashes+10])\n",
    "                else:\n",
    "                    break\n"
   ],
   "cell_type": "code",
   "metadata": {
    "tags": []
   },
   "execution_count": 125,
   "outputs": []
  }
 ]
}